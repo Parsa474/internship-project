{
 "cells": [
  {
   "cell_type": "code",
   "execution_count": 1,
   "id": "30eda139-d9bf-4329-876a-5f9a67a8227c",
   "metadata": {
    "tags": []
   },
   "outputs": [],
   "source": [
    "import math\n",
    "import numpy as np\n",
    "import torch\n",
    "import torchvision.datasets as datasets\n",
    "import torchvision.transforms as transforms\n",
    "import matplotlib.pyplot as plt\n",
    "import cv2"
   ]
  },
  {
   "cell_type": "code",
   "execution_count": 2,
   "id": "bd524006-57ed-48f5-b29e-32d75572193c",
   "metadata": {
    "tags": []
   },
   "outputs": [],
   "source": [
    "# Load MNIST dataset\n",
    "transform = transforms.Compose([transforms.ToTensor()])\n",
    "train_dataset = datasets.MNIST(root='./data', train=True, transform=transform, download=True)\n",
    "test_dataset = datasets.MNIST(root='./data', train=False, transform=transform, download=True)\n",
    "train_loader = torch.utils.data.DataLoader(dataset=train_dataset, batch_size=1, shuffle=True)\n",
    "test_loader = torch.utils.data.DataLoader(dataset=test_dataset, batch_size=1, shuffle=False)"
   ]
  },
  {
   "cell_type": "code",
   "execution_count": 3,
   "id": "f6c59baf-a096-4097-807c-1d440915ee0d",
   "metadata": {
    "tags": []
   },
   "outputs": [],
   "source": [
    "def gen_train():\n",
    "    for x_train, y_train in train_loader:\n",
    "        I = x_train[0].numpy()\n",
    "        K = np.zeros((1, 28, 28, 1), np.float32)\n",
    "        I = (I / 255.0)\n",
    "        K[0, ..., 0] = I.astype(np.float32)\n",
    "\n",
    "        pts1 = np.float32([[(0, 0), (28, 0), (0, 28), (28, 28)]])\n",
    "\n",
    "        rx = np.random.randint(0, 5, 1)[0]\n",
    "        ry = np.random.randint(0, 5, 1)[0]\n",
    "        pts2 = np.float32([[(5 + rx, ry), (20 + rx, ry), (0, 28), (28, 28)]])\n",
    "        M = cv2.getPerspectiveTransform(pts2, pts1)\n",
    "        Y = cv2.warpPerspective(K[0, :, :, 0], M, (28, 28))[None, ..., None]\n",
    "\n",
    "        yield torch.from_numpy(Y), torch.from_numpy(K)"
   ]
  },
  {
   "cell_type": "code",
   "execution_count": 4,
   "id": "0cd0c998-7f38-441b-b3f4-cffcb650f077",
   "metadata": {
    "tags": []
   },
   "outputs": [],
   "source": [
    "def gen_test():\n",
    "    for x_test, y_test in test_loader:\n",
    "        I = x_test[0].numpy()\n",
    "        K = np.zeros((1, 28, 28, 1), np.float32)\n",
    "        I = (I / 255.0)\n",
    "        K[0, ..., 0] = I.astype(np.float32)\n",
    "\n",
    "        pts1 = np.float32([[(0, 0), (28, 0), (0, 28), (28, 28)]])\n",
    "        rx = np.random.randint(0, 5, 1)[0]\n",
    "        ry = np.random.randint(0, 5, 1)[0]\n",
    "        pts2 = np.float32([[(5 + rx, ry), (20 + rx, ry), (0, 28), (28, 28)]])\n",
    "        M = cv2.getPerspectiveTransform(pts2, pts1)\n",
    "        Y = cv2.warpPerspective(K[0, :, :, 0], M, (28, 28))[None, ..., None]\n",
    "\n",
    "        yield torch.from_numpy(Y), torch.from_numpy(K)"
   ]
  },
  {
   "cell_type": "code",
   "execution_count": 5,
   "id": "da1cd059-c96f-4ece-b2e9-345bf9bf47e9",
   "metadata": {
    "tags": []
   },
   "outputs": [
    {
     "data": {
      "image/png": "[encoded data removed]",
      "text/plain": [
       "<Figure size 640x480 with 1 Axes>"
      ]
     },
     "metadata": {},
     "output_type": "display_data"
    },
    {
     "data": {
      "image/png": "[encoded data removed]",
      "text/plain": [
       "<Figure size 640x480 with 1 Axes>"
      ]
     },
     "metadata": {},
     "output_type": "display_data"
    }
   ],
   "source": [
    "g_train = gen_train()\n",
    "x_train, y_train = next(g_train)\n",
    "plt.title('input (perspectived)')\n",
    "plt.imshow(x_train[0, ..., 0], cmap='gray')\n",
    "plt.figure()\n",
    "plt.title('output (original)')\n",
    "plt.imshow(y_train[0, ..., 0], cmap='gray')\n",
    "plt.show()"
   ]
  },
  {
   "cell_type": "code",
   "execution_count": 6,
   "id": "4738fd79-b3f1-4edb-83c7-2514aee41d65",
   "metadata": {},
   "outputs": [],
   "source": [
    "import torch.nn as nn\n",
    "\n",
    "class PerspectiveCorrectionCNN(nn.Module):\n",
    "    def __init__(self):\n",
    "        super(PerspectiveCorrectionCNN, self).__init__()\n",
    "        self.conv1 = nn.Conv2d(1, 32, kernel_size=3, padding=1)  # Input channels set to 1 for grayscale images\n",
    "        self.conv2 = nn.Conv2d(32, 64, kernel_size=3, padding=1)\n",
    "        self.fc1 = nn.Linear(64 * 28 * 28, 128)\n",
    "        self.fc2 = nn.Linear(128, 784)  # Output size matches input size (28x28)\n",
    "\n",
    "    def forward(self, x):\n",
    "        x = torch.relu(self.conv1(x.permute(0, 3, 1, 2)))  # Transpose the dimensions\n",
    "        x = torch.relu(self.conv2(x))\n",
    "        x = x.view(x.size(0), -1)\n",
    "        x = torch.relu(self.fc1(x))\n",
    "        x = torch.sigmoid(self.fc2(x))  # Sigmoid activation to output values in [0, 1]\n",
    "        return x"
   ]
  },
  {
   "cell_type": "code",
   "execution_count": 7,
   "id": "868597c3-3bf1-447c-9b67-d3ad887d6df5",
   "metadata": {},
   "outputs": [],
   "source": [
    "device = torch.device(\"cuda\" if torch.cuda.is_available() else \"cpu\")\n",
    "model = PerspectiveCorrectionCNN().to(device)"
   ]
  },
  {
   "cell_type": "code",
   "execution_count": 8,
   "id": "1a364f30-51a3-44d5-8d4f-05db6ffca123",
   "metadata": {},
   "outputs": [],
   "source": [
    "import torch.optim as optim\n",
    "\n",
    "# Define loss function and optimizer\n",
    "criterion = nn.MSELoss()  # Mean Squared Error loss\n",
    "optimizer = optim.Adam(model.parameters(), lr=0.001)  # You can adjust the learning rate"
   ]
  },
  {
   "cell_type": "code",
   "execution_count": 9,
   "id": "3dd45ad0-2afb-4934-863f-7655941bac8f",
   "metadata": {
    "tags": []
   },
   "outputs": [
    {
     "name": "stdout",
     "output_type": "stream",
     "text": [
      "Epoch [1/1], Iteration [1000/60000], Loss: 0.0020584765\n",
      "Epoch [1/1], Iteration [2000/60000], Loss: 0.0000014631\n",
      "Epoch [1/1], Iteration [3000/60000], Loss: 0.0000014393\n",
      "Epoch [1/1], Iteration [4000/60000], Loss: 0.0000014528\n",
      "Epoch [1/1], Iteration [5000/60000], Loss: 0.0000014215\n",
      "Epoch [1/1], Iteration [6000/60000], Loss: 0.0000013981\n",
      "Epoch [1/1], Iteration [7000/60000], Loss: 0.0000013602\n",
      "Epoch [1/1], Iteration [8000/60000], Loss: 0.0000012854\n",
      "Epoch [1/1], Iteration [9000/60000], Loss: 0.0000012166\n",
      "Epoch [1/1], Iteration [10000/60000], Loss: 0.0000011836\n",
      "Epoch [1/1], Iteration [11000/60000], Loss: 0.0000011674\n",
      "Epoch [1/1], Iteration [12000/60000], Loss: 0.0000011827\n",
      "Epoch [1/1], Iteration [13000/60000], Loss: 0.0000011848\n",
      "Epoch [1/1], Iteration [14000/60000], Loss: 0.0000011346\n",
      "Epoch [1/1], Iteration [15000/60000], Loss: 0.0000011448\n",
      "Epoch [1/1], Iteration [16000/60000], Loss: 0.0000011170\n",
      "Epoch [1/1], Iteration [17000/60000], Loss: 0.0000011070\n",
      "Epoch [1/1], Iteration [18000/60000], Loss: 0.0000010728\n",
      "Epoch [1/1], Iteration [19000/60000], Loss: 0.0000010390\n",
      "Epoch [1/1], Iteration [20000/60000], Loss: 0.0000010157\n",
      "Epoch [1/1], Iteration [21000/60000], Loss: 0.0000010075\n",
      "Epoch [1/1], Iteration [22000/60000], Loss: 0.0000009355\n",
      "Epoch [1/1], Iteration [23000/60000], Loss: 0.0000008943\n",
      "Epoch [1/1], Iteration [24000/60000], Loss: 0.0000008180\n",
      "Epoch [1/1], Iteration [25000/60000], Loss: 0.0000007827\n",
      "Epoch [1/1], Iteration [26000/60000], Loss: 0.0000007534\n",
      "Epoch [1/1], Iteration [27000/60000], Loss: 0.0000007248\n",
      "Epoch [1/1], Iteration [28000/60000], Loss: 0.0000007002\n",
      "Epoch [1/1], Iteration [29000/60000], Loss: 0.0000007034\n",
      "Epoch [1/1], Iteration [30000/60000], Loss: 0.0000006777\n",
      "Epoch [1/1], Iteration [31000/60000], Loss: 0.0000006635\n",
      "Epoch [1/1], Iteration [32000/60000], Loss: 0.0000006501\n",
      "Epoch [1/1], Iteration [33000/60000], Loss: 0.0000006500\n",
      "Epoch [1/1], Iteration [34000/60000], Loss: 0.0000006154\n",
      "Epoch [1/1], Iteration [35000/60000], Loss: 0.0000006154\n",
      "Epoch [1/1], Iteration [36000/60000], Loss: 0.0000006085\n",
      "Epoch [1/1], Iteration [37000/60000], Loss: 0.0000005907\n",
      "Epoch [1/1], Iteration [38000/60000], Loss: 0.0000005811\n",
      "Epoch [1/1], Iteration [39000/60000], Loss: 0.0000006063\n",
      "Epoch [1/1], Iteration [40000/60000], Loss: 0.0000005849\n",
      "Epoch [1/1], Iteration [41000/60000], Loss: 0.0000005731\n",
      "Epoch [1/1], Iteration [42000/60000], Loss: 0.0000005740\n",
      "Epoch [1/1], Iteration [43000/60000], Loss: 0.0000005638\n",
      "Epoch [1/1], Iteration [44000/60000], Loss: 0.0000005649\n",
      "Epoch [1/1], Iteration [45000/60000], Loss: 0.0000005642\n",
      "Epoch [1/1], Iteration [46000/60000], Loss: 0.0000005535\n",
      "Epoch [1/1], Iteration [47000/60000], Loss: 0.0000005519\n",
      "Epoch [1/1], Iteration [48000/60000], Loss: 0.0000005580\n",
      "Epoch [1/1], Iteration [49000/60000], Loss: 0.0000005464\n",
      "Epoch [1/1], Iteration [50000/60000], Loss: 0.0000005320\n",
      "Epoch [1/1], Iteration [51000/60000], Loss: 0.0000005334\n",
      "Epoch [1/1], Iteration [52000/60000], Loss: 0.0000005263\n",
      "Epoch [1/1], Iteration [53000/60000], Loss: 0.0000005289\n",
      "Epoch [1/1], Iteration [54000/60000], Loss: 0.0000005268\n",
      "Epoch [1/1], Iteration [55000/60000], Loss: 0.0000005348\n",
      "Epoch [1/1], Iteration [56000/60000], Loss: 0.0000005194\n",
      "Epoch [1/1], Iteration [57000/60000], Loss: 0.0000005224\n",
      "Epoch [1/1], Iteration [58000/60000], Loss: 0.0000005228\n",
      "Epoch [1/1], Iteration [59000/60000], Loss: 0.0000005099\n",
      "Epoch [1/1], Iteration [60000/60000], Loss: 0.0000005067\n",
      "Epoch [1/1], Test Loss: 0.0000\n"
     ]
    }
   ],
   "source": [
    "# Training loop\n",
    "num_epochs = 1\n",
    "print_every = 1000\n",
    "\n",
    "for epoch in range(num_epochs):\n",
    "    model.train()\n",
    "    total_loss = 0.0\n",
    "    for i, (x_train, y_train) in enumerate(gen_train()):\n",
    "        # Move input and target data to the GPU\n",
    "        x_train, y_train = x_train.to(device), y_train.to(device)\n",
    "\n",
    "        optimizer.zero_grad()\n",
    "        y_train = y_train.permute(0, 3, 1, 2).view(-1, 784)\n",
    "        outputs = model(x_train)\n",
    "        loss = criterion(outputs, y_train)\n",
    "        loss.backward()\n",
    "        optimizer.step()\n",
    "        total_loss += loss.item()\n",
    "\n",
    "        if (i + 1) % print_every == 0:\n",
    "            average_loss = total_loss / print_every\n",
    "            print(f'Epoch [{epoch + 1}/{num_epochs}], Iteration [{i + 1}/{len(train_loader)}], Loss: {average_loss:.10f}')\n",
    "            total_loss = 0.0\n",
    "            \n",
    "    model.eval()\n",
    "    total_loss = 0\n",
    "    with torch.no_grad():\n",
    "        for x_test, y_test in gen_test():\n",
    "            x_test, y_test = x_test.to(device), y_test.to(device)\n",
    "            y_test = y_test.permute(0, 3, 1, 2).view(-1, 784)\n",
    "            outputs = model(x_test)\n",
    "            loss = criterion(outputs, y_test)\n",
    "            total_loss += loss.item()\n",
    "\n",
    "    average_loss = total_loss / len(test_loader)\n",
    "    print(f'Epoch [{epoch + 1}/{num_epochs}], Test Loss: {average_loss:.10f}')"
   ]
  },
  {
   "cell_type": "code",
   "execution_count": 10,
   "id": "37d26166-f01f-4f5e-ba34-843dbc544144",
   "metadata": {
    "tags": []
   },
   "outputs": [],
   "source": [
    "# Save the trained model if needed\n",
    "torch.save(model.state_dict(), 'perspective_correction_model.pth')"
   ]
  }
 ],
 "metadata": {
  "kernelspec": {
   "display_name": "PyTorch",
   "language": "python",
   "name": "torchenv"
  },
  "language_info": {
   "codemirror_mode": {
    "name": "ipython",
    "version": 3
   },
   "file_extension": ".py",
   "mimetype": "text/x-python",
   "name": "python",
   "nbconvert_exporter": "python",
   "pygments_lexer": "ipython3",
   "version": "3.11.0"
  }
 },
 "nbformat": 4,
 "nbformat_minor": 5
}

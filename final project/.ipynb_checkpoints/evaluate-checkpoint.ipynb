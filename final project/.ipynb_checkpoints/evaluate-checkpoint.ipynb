{
 "cells": [
  {
   "cell_type": "code",
   "execution_count": 11,
   "id": "df1b0028-b127-434f-af00-06ee389a60ba",
   "metadata": {
    "tags": []
   },
   "outputs": [
    {
     "name": "stdout",
     "output_type": "stream",
     "text": [
      "Test Loss: 0.0000005026\n"
     ]
    }
   ],
   "source": [
    "import torch\n",
    "import torch.nn as nn\n",
    "import torchvision.datasets as datasets\n",
    "import torchvision.transforms as transforms\n",
    "import numpy as np\n",
    "import cv2\n",
    "\n",
    "class PerspectiveCorrectionCNN(nn.Module):\n",
    "    def __init__(self):\n",
    "        super(PerspectiveCorrectionCNN, self).__init__()\n",
    "        self.conv1 = nn.Conv2d(1, 32, kernel_size=3, padding=1)  # Input channels set to 1 for grayscale images\n",
    "        self.conv2 = nn.Conv2d(32, 64, kernel_size=3, padding=1)\n",
    "        self.fc1 = nn.Linear(64 * 28 * 28, 128)\n",
    "        self.fc2 = nn.Linear(128, 784)  # Output size matches input size (28x28)\n",
    "\n",
    "    def forward(self, x):\n",
    "        x = torch.relu(self.conv1(x.permute(0, 3, 1, 2)))  # Transpose the dimensions\n",
    "        x = torch.relu(self.conv2(x))\n",
    "        x = x.view(x.size(0), -1)\n",
    "        x = torch.relu(self.fc1(x))\n",
    "        x = torch.sigmoid(self.fc2(x))  # Sigmoid activation to output values in [0, 1]\n",
    "        return x\n",
    "    \n",
    "\n",
    "model = PerspectiveCorrectionCNN()\n",
    "\n",
    "# Load the saved model weights\n",
    "model.load_state_dict(torch.load('perspective_correction_model.pth'))\n",
    "\n",
    "# Set the model to evaluation mode\n",
    "model.eval()\n",
    "\n",
    "# Move the model to the GPU (if available)\n",
    "device = torch.device(\"cuda\" if torch.cuda.is_available() else \"cpu\")\n",
    "model.to(device)\n",
    "\n",
    "# Define the loss function (use the same one as during training)\n",
    "criterion = nn.MSELoss()\n",
    "\n",
    "# Testing methods and objects\n",
    "test_dataset = datasets.MNIST(root='./data', train=False, transform=transforms.ToTensor(), download=True)\n",
    "test_loader = torch.utils.data.DataLoader(dataset=test_dataset, batch_size=1, shuffle=False)\n",
    "def gen_test():\n",
    "    for x_test, y_test in test_loader:\n",
    "        I = x_test[0].numpy()\n",
    "        K = np.zeros((1, 28, 28, 1), np.float32)\n",
    "        I = (I / 255.0)\n",
    "        K[0, ..., 0] = I.astype(np.float32)\n",
    "\n",
    "        pts1 = np.float32([[(0, 0), (28, 0), (0, 28), (28, 28)]])\n",
    "        rx = np.random.randint(0, 5, 1)[0]\n",
    "        ry = np.random.randint(0, 5, 1)[0]\n",
    "        pts2 = np.float32([[(5 + rx, ry), (20 + rx, ry), (0, 28), (28, 28)]])\n",
    "        M = cv2.getPerspectiveTransform(pts2, pts1)\n",
    "        Y = cv2.warpPerspective(K[0, :, :, 0], M, (28, 28))[None, ..., None]\n",
    "\n",
    "        yield torch.from_numpy(Y), torch.from_numpy(K)\n",
    "        \n",
    "# Initialize variables for evaluation\n",
    "total_loss = 0\n",
    "num_samples = 0\n",
    "\n",
    "# Evaluate the model on the test dataset\n",
    "with torch.no_grad():\n",
    "    for x_test, y_test in gen_test():\n",
    "        # Move input and target data to the GPU (if available)\n",
    "        x_test, y_test = x_test.to(device), y_test.to(device)\n",
    "\n",
    "        # Transpose and reshape the target tensor to match the output shape\n",
    "        y_test = y_test.permute(0, 3, 1, 2).view(-1, 784)\n",
    "\n",
    "        # Forward pass\n",
    "        outputs = model(x_test)\n",
    "\n",
    "        # Calculate the loss\n",
    "        loss = criterion(outputs, y_test)\n",
    "\n",
    "        # Accumulate the loss and count the number of samples\n",
    "        total_loss += loss.item()\n",
    "        num_samples += 1\n",
    "\n",
    "# Calculate the average loss\n",
    "average_loss = total_loss / num_samples\n",
    "\n",
    "# Print the test loss\n",
    "print(f'Test Loss: {average_loss:.10f}')\n"
   ]
  },
  {
   "cell_type": "code",
   "execution_count": 12,
   "id": "aae19131-6ef0-4167-a5d9-cee8377057af",
   "metadata": {
    "tags": []
   },
   "outputs": [
    {
     "data": {
      "image/png": "[encoded data removed]",
      "text/plain": [
       "<Figure size 1200x400 with 3 Axes>"
      ]
     },
     "metadata": {},
     "output_type": "display_data"
    }
   ],
   "source": [
    "import matplotlib.pyplot as plt\n",
    "import numpy as np\n",
    "\n",
    "# Choose an example from the test dataset\n",
    "example_index = 0  # Change this to any index you want to visualize\n",
    "x_test_example, y_test_example = None, None\n",
    "\n",
    "for i, (x_test, y_test) in enumerate(gen_test()):\n",
    "    if i == example_index:\n",
    "        x_test_example, y_test_example = x_test, y_test\n",
    "        break\n",
    "\n",
    "# Move the example to the GPU (if available)\n",
    "x_test_example, y_test_example = x_test_example.to(device), y_test_example.to(device)\n",
    "\n",
    "# Pass the perspective-transformed image through the model to get the reconstructed image\n",
    "with torch.no_grad():\n",
    "    reconstructed_image = model(x_test_example)\n",
    "\n",
    "# Transpose and reshape the tensors to the original image shape\n",
    "reconstructed_image = reconstructed_image.view(28, 28).cpu().numpy()\n",
    "perspective_transformed_image = x_test_example.view(28, 28).cpu().numpy()\n",
    "original_image = y_test_example.view(28, 28).cpu().numpy()\n",
    "\n",
    "# Display the perspective-transformed, reconstructed, and original images\n",
    "plt.figure(figsize=(12, 4))\n",
    "plt.subplot(131)\n",
    "plt.title('Perspective-Transformed Image')\n",
    "plt.imshow(perspective_transformed_image, cmap='gray')\n",
    "\n",
    "plt.subplot(132)\n",
    "plt.title('Reconstructed Image')\n",
    "plt.imshow(reconstructed_image, cmap='gray')\n",
    "\n",
    "plt.subplot(133)\n",
    "plt.title('Original Image')\n",
    "plt.imshow(original_image, cmap='gray')\n",
    "\n",
    "plt.show()\n"
   ]
  }
 ],
 "metadata": {
  "kernelspec": {
   "display_name": "PyTorch",
   "language": "python",
   "name": "torchenv"
  },
  "language_info": {
   "codemirror_mode": {
    "name": "ipython",
    "version": 3
   },
   "file_extension": ".py",
   "mimetype": "text/x-python",
   "name": "python",
   "nbconvert_exporter": "python",
   "pygments_lexer": "ipython3",
   "version": "3.11.0"
  }
 },
 "nbformat": 4,
 "nbformat_minor": 5
}
